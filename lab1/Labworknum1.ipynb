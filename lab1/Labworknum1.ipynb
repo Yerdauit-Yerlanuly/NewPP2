{
  "metadata": {
    "kernelspec": {
      "name": "python",
      "display_name": "Python (Pyodide)",
      "language": "python"
    },
    "language_info": {
      "codemirror_mode": {
        "name": "python",
        "version": 3
      },
      "file_extension": ".py",
      "mimetype": "text/x-python",
      "name": "python",
      "nbconvert_exporter": "python",
      "pygments_lexer": "ipython3",
      "version": "3.8"
    }
  },
  "nbformat_minor": 5,
  "nbformat": 4,
  "cells": [
    {
      "id": "6c816861-cc27-4ac3-9f34-7e00e5f201b9",
      "cell_type": "markdown",
      "source": "# Start(lab 1)",
      "metadata": {}
    },
    {
      "id": "a1043ae8-58c7-4e5a-b0d2-2f31bf0c3b98",
      "cell_type": "markdown",
      "source": "## Home - Syntax",
      "metadata": {
        "jp-MarkdownHeadingCollapsed": true
      }
    },
    {
      "id": "fb3a1b4b-94c6-4eb4-9f62-596bb9e9af0c",
      "cell_type": "code",
      "source": "print('hello, world')",
      "metadata": {
        "trusted": true
      },
      "outputs": [
        {
          "name": "stdout",
          "output_type": "stream",
          "text": "hello, world\n"
        }
      ],
      "execution_count": 1
    },
    {
      "id": "9d76645f-ac8c-4337-922d-46406d10dfe2",
      "cell_type": "raw",
      "source": "C:\\Users\\Your Name>python --version\npython --version\nC:\\Users\\Your Name>python helloworld.py\nHello, World!",
      "metadata": {}
    },
    {
      "id": "b4b74697-9da4-4907-bde9-d20940f1c12c",
      "cell_type": "raw",
      "source": "C:\\Users\\Your Name>python\nPython 3.6.4 (v3.6.4:d48eceb, Dec 19 2017, 06:04:45) [MSC v.1900 32 bit (Intel)] on win32\nType \"help\", \"copyright\", \"credits\" or \"license\" for more information.\n>>> print(\"Hello, World!\")\nHello, World!\nexit()",
      "metadata": {}
    },
    {
      "id": "37b99ab4-d259-4ae9-8c4d-e4838a2a24a7",
      "cell_type": "code",
      "source": "if 5 > 2:\n  print(\"Five is greater than two!\")",
      "metadata": {
        "trusted": true
      },
      "outputs": [
        {
          "name": "stdout",
          "output_type": "stream",
          "text": "Five is greater than two!\n"
        }
      ],
      "execution_count": 2
    },
    {
      "id": "256f7984-8ca8-4236-aed4-a1a8cef03002",
      "cell_type": "raw",
      "source": "You have to use the same number of spaces in the same block of code, otherwise Python will give you an error:",
      "metadata": {}
    },
    {
      "id": "f5af42ae-cab0-4159-a790-29131595be74",
      "cell_type": "code",
      "source": "if 5 > 2:\n print(\"Five is greater than two!\")\n        print(\"Five is greater than two!\")",
      "metadata": {
        "trusted": true
      },
      "outputs": [
        {
          "ename": "<class 'IndentationError'>",
          "evalue": "unexpected indent (<ipython-input-3-a4dba24e2a47>, line 3)",
          "traceback": [
            "\u001b[0;36m  Cell \u001b[0;32mIn[3], line 3\u001b[0;36m\u001b[0m\n\u001b[0;31m    print(\"Five is greater than two!\")\u001b[0m\n\u001b[0m    ^\u001b[0m\n\u001b[0;31mIndentationError\u001b[0m\u001b[0;31m:\u001b[0m unexpected indent\n"
          ],
          "output_type": "error"
        }
      ],
      "execution_count": 3
    },
    {
      "id": "29724fdf-d93d-4478-ad44-769cdd6a97d9",
      "cell_type": "markdown",
      "source": "__Comments__",
      "metadata": {}
    },
    {
      "id": "5f0ad72f-ef35-4297-9b2c-9c6499a9aa2a",
      "cell_type": "code",
      "source": "#This is a comment\nprint(\"Hello, World!\")\n\nprint(\"Hello, World!\") #This is a comment\n\n#print(\"Hello, World!\")\nprint(\"Cheers, Mate!\")\n\n#This is a comment\n#written in\n#more than just one line\nprint(\"Hello, World!\")\n\n\"\"\"\nThis is a comment\nwritten in\nmore than just one line\n\"\"\"\nprint(\"Hello, World!\")\n",
      "metadata": {
        "trusted": true
      },
      "outputs": [],
      "execution_count": null
    },
    {
      "id": "ffc2dbec-33e1-4f78-a13e-e61f310e3f5b",
      "cell_type": "markdown",
      "source": "## Python Variables",
      "metadata": {
        "jp-MarkdownHeadingCollapsed": true
      }
    },
    {
      "id": "58b88206-2d74-4290-81e1-6837bbcf0071",
      "cell_type": "code",
      "source": "x = 5\ny = \"John\"\nprint(x)\nprint(y)",
      "metadata": {
        "trusted": true
      },
      "outputs": [
        {
          "name": "stdout",
          "output_type": "stream",
          "text": "5\nJohn\n"
        }
      ],
      "execution_count": 7
    },
    {
      "id": "f78aa1cf-a402-4241-b7be-eb663cba7c51",
      "cell_type": "code",
      "source": "x = 4       # x is of type int\nx = \"Sally\" # x is now of type str\nprint(x)",
      "metadata": {
        "trusted": true
      },
      "outputs": [
        {
          "name": "stdout",
          "output_type": "stream",
          "text": "Sally\n"
        }
      ],
      "execution_count": 8
    },
    {
      "id": "08212c1b-a809-4978-9bdc-382624fd2aeb",
      "cell_type": "code",
      "source": "x = str(3)    # x will be '3'\ny = int(3)    # y will be 3\nz = float(3)  # z will be 3.0",
      "metadata": {
        "trusted": true
      },
      "outputs": [],
      "execution_count": 11
    },
    {
      "id": "c9b051eb-81c8-4e93-855f-803bbf17189a",
      "cell_type": "code",
      "source": "#type may be used to show the type of a variable\nx = 5\ny = \"John\"\nprint(type(x))\nprint(type(y))",
      "metadata": {
        "trusted": true
      },
      "outputs": [
        {
          "name": "stdout",
          "output_type": "stream",
          "text": "<class 'int'>\n<class 'str'>\n"
        }
      ],
      "execution_count": 12
    },
    {
      "id": "551a9ba5-3503-4df0-856d-083aeea5fd48",
      "cell_type": "code",
      "source": "#Quotes\n\nx = \"John\"\n# is the same as\nx = 'John'",
      "metadata": {
        "trusted": true
      },
      "outputs": [],
      "execution_count": null
    },
    {
      "id": "989de5e1-a025-473b-88da-29285bb460c6",
      "cell_type": "code",
      "source": "a = 4\nA = \"Sally\"\n#A will not overwrite a",
      "metadata": {
        "trusted": true
      },
      "outputs": [],
      "execution_count": null
    },
    {
      "id": "9ee183d3-7ba7-4806-8658-55a954a6e043",
      "cell_type": "code",
      "source": "# Legal names\nmyvar = \"John\"\nmy_var = \"John\"\n_my_var = \"John\"\nmyVar = \"John\"\nMYVAR = \"John\"\nmyvar2 = \"John\"\n# Ilegal names\n2myvar = \"John\"\nmy-var = \"John\"\nmy var = \"John\"",
      "metadata": {
        "trusted": true
      },
      "outputs": [],
      "execution_count": null
    },
    {
      "id": "20c49d9c-b899-4ba0-8211-a9a7bcb0e20e",
      "cell_type": "markdown",
      "source": "__Many values to multiple variables__",
      "metadata": {}
    },
    {
      "id": "03c3f2fa-e954-46e8-b2b2-755f37a0525f",
      "cell_type": "code",
      "source": "x = y = z = \"Orange\"\nprint(x)\nprint(y)\nprint(z)",
      "metadata": {
        "trusted": true
      },
      "outputs": [
        {
          "name": "stdout",
          "output_type": "stream",
          "text": "Orange\nOrange\nOrange\n"
        }
      ],
      "execution_count": 1
    },
    {
      "id": "61537fa0-0dd8-4551-9d32-f8e948013156",
      "cell_type": "code",
      "source": "x, y, z = \"Orange\", \"Banana\", \"Cherry\"\nprint(x)\nprint(y)\nprint(z)",
      "metadata": {
        "trusted": true
      },
      "outputs": [
        {
          "name": "stdout",
          "output_type": "stream",
          "text": "Orange\nBanana\nCherry\n"
        }
      ],
      "execution_count": 2
    },
    {
      "id": "8bd8bb9e-7602-4033-b83b-ab1edee6694e",
      "cell_type": "code",
      "source": "fruits = [\"apple\", \"banana\", \"cherry\"]\nx, y, z = fruits\nprint(x)\nprint(y)\nprint(z)",
      "metadata": {
        "trusted": true
      },
      "outputs": [
        {
          "name": "stdout",
          "output_type": "stream",
          "text": "apple\nbanana\ncherry\n"
        }
      ],
      "execution_count": 3
    },
    {
      "id": "495a4869-0af6-4689-a017-ba3d68853ea2",
      "cell_type": "markdown",
      "source": "__Output variables__",
      "metadata": {}
    },
    {
      "id": "83d9f9a9-47a2-4919-bea3-fe7752411d85",
      "cell_type": "code",
      "source": "x = \"Python is awesome\"\nprint(x)",
      "metadata": {
        "trusted": true
      },
      "outputs": [
        {
          "name": "stdout",
          "output_type": "stream",
          "text": "Python is awesome\n"
        }
      ],
      "execution_count": 4
    },
    {
      "id": "3233b09a-3826-493f-9326-307066bf6391",
      "cell_type": "code",
      "source": "x = \"Python\"\ny = \"is\"\nz = \"awesome\"\nprint(x, y, z)",
      "metadata": {
        "trusted": true
      },
      "outputs": [
        {
          "name": "stdout",
          "output_type": "stream",
          "text": "Python is awesome\n"
        }
      ],
      "execution_count": 5
    },
    {
      "id": "f16c73a4-08c5-4dd7-a1ec-0033469e3bb8",
      "cell_type": "code",
      "source": "x = \"Python \"\ny = \"is \"\nz = \"awesome\"\nprint(x + y + z)",
      "metadata": {
        "trusted": true
      },
      "outputs": [
        {
          "name": "stdout",
          "output_type": "stream",
          "text": "Python is awesome\n"
        }
      ],
      "execution_count": 6
    },
    {
      "id": "f4297347-9556-45eb-a799-63173b74d73f",
      "cell_type": "code",
      "source": "x = 5\ny = 10\nprint(x + y)",
      "metadata": {
        "trusted": true
      },
      "outputs": [
        {
          "name": "stdout",
          "output_type": "stream",
          "text": "15\n"
        }
      ],
      "execution_count": 7
    },
    {
      "id": "1334ccfc-ccce-4f0b-afd9-55cb9d5552ef",
      "cell_type": "code",
      "source": "x = 5\ny = \"John\"\nprint(x, y)",
      "metadata": {
        "trusted": true
      },
      "outputs": [
        {
          "name": "stdout",
          "output_type": "stream",
          "text": "5 John\n"
        }
      ],
      "execution_count": 8
    },
    {
      "id": "db7f269a-be7e-432b-9e00-9f84f2fc3f40",
      "cell_type": "raw",
      "source": "Global Variables",
      "metadata": {}
    },
    {
      "id": "928b2652-9f20-40d2-a8a0-eee1fc979331",
      "cell_type": "code",
      "source": "x = \"awesome\"\n\ndef myfunc():\n  print(\"Python is \" + x)\n\nmyfunc()",
      "metadata": {
        "trusted": true
      },
      "outputs": [
        {
          "name": "stdout",
          "output_type": "stream",
          "text": "Python is awesome\n"
        }
      ],
      "execution_count": 9
    },
    {
      "id": "0f865b57-a8a3-499f-a558-071b0d5c7d62",
      "cell_type": "code",
      "source": "x = \"awesome\"\n\ndef myfunc():\n  x = \"fantastic\"\n  print(\"Python is \" + x)\n\nmyfunc()\n\nprint(\"Python is \" + x)",
      "metadata": {
        "trusted": true
      },
      "outputs": [
        {
          "name": "stdout",
          "output_type": "stream",
          "text": "Python is fantastic\nPython is awesome\n"
        }
      ],
      "execution_count": 10
    },
    {
      "id": "1f95d498-9666-453b-bb86-4ad1c70a799f",
      "cell_type": "code",
      "source": "def myfunc():\n  global x\n  x = \"fantastic\"\n\nmyfunc()\n\nprint(\"Python is \" + x)",
      "metadata": {
        "trusted": true
      },
      "outputs": [
        {
          "name": "stdout",
          "output_type": "stream",
          "text": "Python is fantastic\n"
        }
      ],
      "execution_count": 11
    },
    {
      "id": "345a9983-d117-45a5-a0c9-c4d29662a27d",
      "cell_type": "code",
      "source": "x = \"awesome\"\n\ndef myfunc():\n  global x\n  x = \"fantastic\"\n\nmyfunc()\n\nprint(\"Python is \" + x)",
      "metadata": {
        "trusted": true
      },
      "outputs": [
        {
          "name": "stdout",
          "output_type": "stream",
          "text": "Python is fantastic\n"
        }
      ],
      "execution_count": 12
    },
    {
      "id": "c3e30626-4412-43dd-9aa3-8f3da94f5bfd",
      "cell_type": "markdown",
      "source": "## Data types - Casting",
      "metadata": {
        "jp-MarkdownHeadingCollapsed": true
      }
    },
    {
      "id": "91db6db6-9f68-4107-a251-e857331b981e",
      "cell_type": "markdown",
      "source": "__Built-in Data Types__",
      "metadata": {}
    },
    {
      "id": "de008812-9776-4851-ab54-34a20d631bfa",
      "cell_type": "raw",
      "source": "Text Type:\tstr\nNumeric Types:\tint, float, complex\nSequence Types:\tlist, tuple, range\nMapping Type:\tdict\nSet Types:\tset, frozenset\nBoolean Type:\tbool\nBinary Types:\tbytes, bytearray, memoryview\nNone Type:\tNoneType",
      "metadata": {}
    },
    {
      "id": "f25921df-63ba-48cc-8043-7b9c8de8f491",
      "cell_type": "code",
      "source": "Setting the Data Types\nExample\t                                        Data Type\nx = \"Hello World\"\t                            str\t\nx = 20\t                                        int\t\nx = 20.5\t                                    float\t\nx = 1j\t                                        complex\t\nx = [\"apple\", \"banana\", \"cherry\"]\t            list\t\nx = (\"apple\", \"banana\", \"cherry\")\t            tuple\t\nx = range(6)\t                                range\t\nx = {\"name\" : \"John\", \"age\" : 36}\t            dict\t\nx = {\"apple\", \"banana\", \"cherry\"}\t            set\t\nx = frozenset({\"apple\", \"banana\", \"cherry\"})\tfrozenset\t\nx = True\t                                    bool\t\nx = b\"Hello\"\t                                bytes\t\nx = bytearray(5)\t                            bytearray\t\nx = memoryview(bytes(5))\t                    memoryview\t\nx = None\t                                    NoneType\t",
      "metadata": {
        "trusted": true
      },
      "outputs": [],
      "execution_count": null
    },
    {
      "id": "1a57c7c9-656f-424a-896a-0fdc82dd4e4a",
      "cell_type": "code",
      "source": "Setting the Specific Data Type\nExample\t                                        Data Type\nx = str(\"Hello World\")\t                        str\t\nx = int(20)\t                                    int\t\nx = float(20.5)\t                                float\t\nx = complex(1j)\t                                complex\t\nx = list((\"apple\", \"banana\", \"cherry\"))\t        list\t\nx = tuple((\"apple\", \"banana\", \"cherry\"))\t    tuple\t\nx = range(6)\t                                range\t\nx = dict(name=\"John\", age=36)\t                dict\t\nx = set((\"apple\", \"banana\", \"cherry\"))\t        set\t\nx = frozenset((\"apple\", \"banana\", \"cherry\"))\tfrozenset\t\nx = bool(5)\t                                    bool\t\nx = bytes(5)\t                                bytes\t\nx = bytearray(5)\t                            bytearray\t\nx = memoryview(bytes(5))\t                    memoryview",
      "metadata": {
        "trusted": true
      },
      "outputs": [],
      "execution_count": null
    },
    {
      "id": "9c3a9ca0-4e85-435d-803b-488e46b28e5c",
      "cell_type": "markdown",
      "source": "__Numbers__",
      "metadata": {}
    },
    {
      "id": "b98d7f2a-a293-4c6b-b12f-4c5df7167657",
      "cell_type": "code",
      "source": "x = 1    # int\ny = 2.8  # float\nz = 1j   # complex\n\nprint(type(x))\nprint(type(y))\nprint(type(z))",
      "metadata": {
        "trusted": true
      },
      "outputs": [
        {
          "name": "stdout",
          "output_type": "stream",
          "text": "<class 'int'>\n<class 'float'>\n<class 'complex'>\n"
        }
      ],
      "execution_count": 15
    },
    {
      "id": "6c5098bd-09ce-4640-b7eb-88fc7067f47d",
      "cell_type": "code",
      "source": "x = 1\ny = 35656222554887711\nz = -3255522\n\nprint(type(x))\nprint(type(y))\nprint(type(z))",
      "metadata": {
        "trusted": true
      },
      "outputs": [
        {
          "name": "stdout",
          "output_type": "stream",
          "text": "<class 'int'>\n<class 'int'>\n<class 'int'>\n"
        }
      ],
      "execution_count": 16
    },
    {
      "id": "126ae10f-8c0f-4610-9ff2-3d4a7e58f754",
      "cell_type": "code",
      "source": "x = 1.10\ny = 1.0\nz = -35.59\n\nprint(type(x))\nprint(type(y))\nprint(type(z))",
      "metadata": {
        "trusted": true
      },
      "outputs": [
        {
          "name": "stdout",
          "output_type": "stream",
          "text": "<class 'float'>\n<class 'float'>\n<class 'float'>\n"
        }
      ],
      "execution_count": 17
    },
    {
      "id": "e80ccf6a-bcc9-4780-80f1-165636105626",
      "cell_type": "code",
      "source": "x = 35e3\ny = 12E4\nz = -87.7e100\n\nprint(type(x))\nprint(type(y))\nprint(type(z))",
      "metadata": {
        "trusted": true
      },
      "outputs": [
        {
          "name": "stdout",
          "output_type": "stream",
          "text": "<class 'float'>\n<class 'float'>\n<class 'float'>\n"
        }
      ],
      "execution_count": 18
    },
    {
      "id": "1fa0d396-3551-41d4-8959-ca02be589005",
      "cell_type": "code",
      "source": "# Complex numbers are written with a \"j\" as the imaginary part:\nx = 3+5j\ny = 5j\nz = -5j\n\nprint(type(x))\nprint(type(y))\nprint(type(z))",
      "metadata": {
        "trusted": true
      },
      "outputs": [
        {
          "name": "stdout",
          "output_type": "stream",
          "text": "<class 'complex'>\n<class 'complex'>\n<class 'complex'>\n"
        }
      ],
      "execution_count": 22
    },
    {
      "id": "f365f1a3-41ea-4e78-8c0a-12cf8a8d64eb",
      "cell_type": "code",
      "source": "# Type conversion\nx = 1    # int\ny = 2.8  # float\nz = 1j   # complex\n\n#convert from int to float:\na = float(x)\n\n#convert from float to int:\nb = int(y)\n\n#convert from int to complex:\nc = complex(x)\n\nprint(a)\nprint(b)\nprint(c)\n\nprint(type(a))\nprint(type(b))\nprint(type(c))",
      "metadata": {
        "trusted": true
      },
      "outputs": [
        {
          "name": "stdout",
          "output_type": "stream",
          "text": "1.0\n2\n(1+0j)\n<class 'float'>\n<class 'int'>\n<class 'complex'>\n"
        }
      ],
      "execution_count": 21
    },
    {
      "id": "9a17fc83-32dd-4aaa-aa65-8c4b79097df7",
      "cell_type": "code",
      "source": "# Random Number\nimport random\n\nprint(random.randrange(1, 10))",
      "metadata": {
        "trusted": true
      },
      "outputs": [
        {
          "name": "stdout",
          "output_type": "stream",
          "text": "9\n"
        }
      ],
      "execution_count": 24
    },
    {
      "id": "fa445358-fbdb-4032-a1bf-30686cb723be",
      "cell_type": "markdown",
      "source": "__Casting__",
      "metadata": {}
    },
    {
      "id": "f0ae753b-0c4a-407b-89a8-fa50235e7b58",
      "cell_type": "code",
      "source": "x = int(1)   # x will be 1\ny = int(2.8) # y will be 2\nz = int(\"3\") # z will be 3",
      "metadata": {
        "trusted": true
      },
      "outputs": [],
      "execution_count": 25
    },
    {
      "id": "7fb6acc2-8e92-43f9-9aa5-4720154b0247",
      "cell_type": "code",
      "source": "x = float(1)     # x will be 1.0\ny = float(2.8)   # y will be 2.8\nz = float(\"3\")   # z will be 3.0\nw = float(\"4.2\") # w will be 4.2",
      "metadata": {
        "trusted": true
      },
      "outputs": [],
      "execution_count": 26
    },
    {
      "id": "9be6b308-4900-4d2a-a3c1-c20490f4e43a",
      "cell_type": "code",
      "source": "x = str(\"s1\") # x will be 's1'\ny = str(2)    # y will be '2'\nz = str(3.0)  # z will be '3.0'",
      "metadata": {
        "trusted": true
      },
      "outputs": [],
      "execution_count": 27
    },
    {
      "id": "e8c9e41d-9ef3-4753-b4b5-234ef4428b8c",
      "cell_type": "markdown",
      "source": "## Strings",
      "metadata": {
        "jp-MarkdownHeadingCollapsed": true
      }
    },
    {
      "id": "78da7b76-25ce-45e9-9657-bb1b7cbf016f",
      "cell_type": "markdown",
      "source": "__Strings__",
      "metadata": {}
    },
    {
      "id": "7dfefd2b-ec65-4cfa-a8bf-4933599e3cef",
      "cell_type": "code",
      "source": "print(\"Hello\")\nprint('Hello')",
      "metadata": {
        "trusted": true
      },
      "outputs": [
        {
          "name": "stdout",
          "output_type": "stream",
          "text": "Hello\nHello\n"
        }
      ],
      "execution_count": 28
    },
    {
      "id": "dfe6ee6a-335f-46c3-98d8-9d90b265b743",
      "cell_type": "code",
      "source": "print(\"It's alright\")\nprint(\"He is called 'Johnny'\")\nprint('He is called \"Johnny\"')",
      "metadata": {
        "trusted": true
      },
      "outputs": [
        {
          "name": "stdout",
          "output_type": "stream",
          "text": "It's alright\nHe is called 'Johnny'\nHe is called \"Johnny\"\n"
        }
      ],
      "execution_count": 29
    },
    {
      "id": "736fa63a-c38c-4fa6-ba18-d90ce9e7fd8c",
      "cell_type": "code",
      "source": "a = \"Hello\"\nprint(a)",
      "metadata": {
        "trusted": true
      },
      "outputs": [
        {
          "name": "stdout",
          "output_type": "stream",
          "text": "Hello\n"
        }
      ],
      "execution_count": 30
    },
    {
      "id": "24a1f418-f6d6-46d3-9b75-ccfd8b9673ff",
      "cell_type": "code",
      "source": "a = \"\"\"Lorem ipsum dolor sit amet,\nconsectetur adipiscing elit,\nsed do eiusmod tempor incididunt\nut labore et dolore magna aliqua.\"\"\"\nprint(a)",
      "metadata": {
        "trusted": true
      },
      "outputs": [
        {
          "name": "stdout",
          "output_type": "stream",
          "text": "Lorem ipsum dolor sit amet,\nconsectetur adipiscing elit,\nsed do eiusmod tempor incididunt\nut labore et dolore magna aliqua.\n"
        }
      ],
      "execution_count": 31
    },
    {
      "id": "a52d0c6d-2915-410b-9bd8-9bee6cfcb9c8",
      "cell_type": "code",
      "source": "a = '''Lorem ipsum dolor sit amet,\nconsectetur adipiscing elit,\nsed do eiusmod tempor incididunt\nut labore et dolore magna aliqua.'''\nprint(a)",
      "metadata": {
        "trusted": true
      },
      "outputs": [
        {
          "name": "stdout",
          "output_type": "stream",
          "text": "Lorem ipsum dolor sit amet,\nconsectetur adipiscing elit,\nsed do eiusmod tempor incididunt\nut labore et dolore magna aliqua.\n"
        }
      ],
      "execution_count": 32
    },
    {
      "id": "32ba3478-c7b1-44f4-baca-33173de07db3",
      "cell_type": "code",
      "source": "a = \"Hello, World!\"\nprint(a[1])",
      "metadata": {
        "trusted": true
      },
      "outputs": [
        {
          "name": "stdout",
          "output_type": "stream",
          "text": "e\n"
        }
      ],
      "execution_count": 33
    },
    {
      "id": "c61c909c-ea9d-40c0-b1cc-e26238775400",
      "cell_type": "code",
      "source": "for x in \"banana\":\n  print(x)",
      "metadata": {
        "trusted": true
      },
      "outputs": [
        {
          "name": "stdout",
          "output_type": "stream",
          "text": "b\na\nn\na\nn\na\n"
        }
      ],
      "execution_count": 34
    },
    {
      "id": "7099603a-a25c-4b0c-a96c-2743e11d4f78",
      "cell_type": "code",
      "source": "a = \"Hello, World!\"\nprint(len(a))",
      "metadata": {
        "trusted": true
      },
      "outputs": [
        {
          "name": "stdout",
          "output_type": "stream",
          "text": "13\n"
        }
      ],
      "execution_count": 35
    },
    {
      "id": "2deb3ce5-d427-46ae-a852-ffc37295bb72",
      "cell_type": "code",
      "source": "txt = \"The best things in life are free!\"\nprint(\"free\" in txt)",
      "metadata": {
        "trusted": true
      },
      "outputs": [
        {
          "name": "stdout",
          "output_type": "stream",
          "text": "True\n"
        }
      ],
      "execution_count": 36
    },
    {
      "id": "ed650634-b432-4010-83f3-94a37f12edf8",
      "cell_type": "code",
      "source": "txt = \"The best things in life are free!\"\nif \"free\" in txt:\n  print(\"Yes, 'free' is present.\")",
      "metadata": {
        "trusted": true
      },
      "outputs": [
        {
          "name": "stdout",
          "output_type": "stream",
          "text": "Yes, 'free' is present.\n"
        }
      ],
      "execution_count": 37
    },
    {
      "id": "85e785a6-48bc-4aaa-9c78-6798e19ddc07",
      "cell_type": "code",
      "source": "txt = \"The best things in life are free!\"\nprint(\"expensive\" not in txt)",
      "metadata": {
        "trusted": true
      },
      "outputs": [
        {
          "name": "stdout",
          "output_type": "stream",
          "text": "True\n"
        }
      ],
      "execution_count": 38
    },
    {
      "id": "dd11492c-1eab-432a-ad01-6f02bdbbcd5f",
      "cell_type": "code",
      "source": "txt = \"The best things in life are free!\"\nif \"expensive\" not in txt:\n  print(\"No, 'expensive' is NOT present.\")",
      "metadata": {
        "trusted": true
      },
      "outputs": [
        {
          "name": "stdout",
          "output_type": "stream",
          "text": "No, 'expensive' is NOT present.\n"
        }
      ],
      "execution_count": 39
    },
    {
      "id": "a34aac70-e469-4684-ae24-5d54f294b276",
      "cell_type": "markdown",
      "source": "__Slicing Strings__",
      "metadata": {}
    },
    {
      "id": "fd8b07f7-e7b7-4b29-aad5-050deeea1bd9",
      "cell_type": "code",
      "source": "b = \"Hello, World!\"\nprint(b[2:5])",
      "metadata": {
        "trusted": true
      },
      "outputs": [
        {
          "name": "stdout",
          "output_type": "stream",
          "text": "llo\n"
        }
      ],
      "execution_count": 40
    },
    {
      "id": "a0e10cde-5907-4928-89b4-cbce77c4d028",
      "cell_type": "code",
      "source": "b = \"Hello, World!\"\nprint(b[:5])",
      "metadata": {
        "trusted": true
      },
      "outputs": [
        {
          "name": "stdout",
          "output_type": "stream",
          "text": "Hello\n"
        }
      ],
      "execution_count": 41
    },
    {
      "id": "35964cbb-4606-480c-811d-c2b3c8553875",
      "cell_type": "code",
      "source": "b = \"Hello, World!\"\nprint(b[2:])",
      "metadata": {
        "trusted": true
      },
      "outputs": [
        {
          "name": "stdout",
          "output_type": "stream",
          "text": "llo, World!\n"
        }
      ],
      "execution_count": 42
    },
    {
      "id": "a9893910-7fd7-4eae-8f17-d367a007a6be",
      "cell_type": "code",
      "source": "b = \"Hello, World!\"\nprint(b[-5:-2])",
      "metadata": {
        "trusted": true
      },
      "outputs": [
        {
          "name": "stdout",
          "output_type": "stream",
          "text": "orl\n"
        }
      ],
      "execution_count": 43
    },
    {
      "id": "a32ae30a-d6f9-4d69-a72e-69f17d9186aa",
      "cell_type": "markdown",
      "source": "__Modify Strings__",
      "metadata": {}
    },
    {
      "id": "3e244f75-c9c1-40f8-89c8-9225d30c8385",
      "cell_type": "code",
      "source": "a = \"Hello, World!\"\nprint(a.upper())",
      "metadata": {
        "trusted": true
      },
      "outputs": [
        {
          "name": "stdout",
          "output_type": "stream",
          "text": "HELLO, WORLD!\n"
        }
      ],
      "execution_count": 44
    },
    {
      "id": "a7f05412-a348-4e49-9a0f-839305f6d8d6",
      "cell_type": "code",
      "source": "a = \"Hello, World!\"\nprint(a.lower())",
      "metadata": {
        "trusted": true
      },
      "outputs": [
        {
          "name": "stdout",
          "output_type": "stream",
          "text": "hello, world!\n"
        }
      ],
      "execution_count": 45
    },
    {
      "id": "d5b12ce5-8777-41b0-918c-37593b353ec0",
      "cell_type": "code",
      "source": "a = \" Hello, World! \"\nprint(a.strip()) # returns \"Hello, World!\"",
      "metadata": {
        "trusted": true
      },
      "outputs": [
        {
          "name": "stdout",
          "output_type": "stream",
          "text": "Hello, World!\n"
        }
      ],
      "execution_count": 46
    },
    {
      "id": "2819567b-28ea-4a7d-b7a9-485a53f36057",
      "cell_type": "code",
      "source": "a = \"Hello, World!\"\nprint(a.replace(\"H\", \"J\"))",
      "metadata": {
        "trusted": true
      },
      "outputs": [
        {
          "name": "stdout",
          "output_type": "stream",
          "text": "Jello, World!\n"
        }
      ],
      "execution_count": 47
    },
    {
      "id": "0f0b3276-7f9f-4c10-a77a-8ab5d3a717cc",
      "cell_type": "code",
      "source": "a = \"Hello, World!\"\nprint(a.split(\",\")) # returns ['Hello', ' World!']",
      "metadata": {
        "trusted": true
      },
      "outputs": [
        {
          "name": "stdout",
          "output_type": "stream",
          "text": "['Hello', ' World!']\n"
        }
      ],
      "execution_count": 48
    },
    {
      "id": "4f4f657a-325c-4eaa-80b5-8c68a5898e95",
      "cell_type": "markdown",
      "source": "__String Concatenation__",
      "metadata": {}
    },
    {
      "id": "b5b547f4-5690-4f5c-90dc-b160424feae7",
      "cell_type": "code",
      "source": "a = \"Hello\"\nb = \"World\"\nc = a + b\nprint(c)",
      "metadata": {
        "trusted": true
      },
      "outputs": [
        {
          "name": "stdout",
          "output_type": "stream",
          "text": "HelloWorld\n"
        }
      ],
      "execution_count": 49
    },
    {
      "id": "a71ea6b2-2824-43cb-88d1-90edd26c3efe",
      "cell_type": "code",
      "source": "a = \"Hello\"\nb = \"World\"\nc = a + \" \" + b\nprint(c)",
      "metadata": {
        "trusted": true
      },
      "outputs": [
        {
          "name": "stdout",
          "output_type": "stream",
          "text": "Hello World\n"
        }
      ],
      "execution_count": 50
    },
    {
      "id": "1e4bde92-efa4-4eea-97b0-cba18f0080c3",
      "cell_type": "markdown",
      "source": "__Format Strings__",
      "metadata": {}
    },
    {
      "id": "4cf29e29-f69c-40a9-b503-e1846d61b263",
      "cell_type": "code",
      "source": "#As we learned in the Python Variables chapter, we cannot combine strings and numbers like this:\nage = 36\ntxt = \"My name is John, I am \" + age\nprint(txt)",
      "metadata": {
        "trusted": true
      },
      "outputs": [
        {
          "ename": "<class 'TypeError'>",
          "evalue": "can only concatenate str (not \"int\") to str",
          "traceback": [
            "\u001b[0;31m---------------------------------------------------------------------------\u001b[0m",
            "\u001b[0;31mTypeError\u001b[0m                                 Traceback (most recent call last)",
            "Cell \u001b[0;32mIn[53], line 3\u001b[0m\n\u001b[1;32m      1\u001b[0m \u001b[38;5;66;03m#As we learned in the Python Variables chapter, we cannot combine strings and numbers like this:\u001b[39;00m\n\u001b[1;32m      2\u001b[0m age \u001b[38;5;241m=\u001b[39m \u001b[38;5;241m36\u001b[39m\n\u001b[0;32m----> 3\u001b[0m txt \u001b[38;5;241m=\u001b[39m \u001b[38;5;124;43m\"\u001b[39;49m\u001b[38;5;124;43mMy name is John, I am \u001b[39;49m\u001b[38;5;124;43m\"\u001b[39;49m\u001b[43m \u001b[49m\u001b[38;5;241;43m+\u001b[39;49m\u001b[43m \u001b[49m\u001b[43mage\u001b[49m\n\u001b[1;32m      4\u001b[0m \u001b[38;5;28mprint\u001b[39m(txt)\n",
            "\u001b[0;31mTypeError\u001b[0m: can only concatenate str (not \"int\") to str"
          ],
          "output_type": "error"
        }
      ],
      "execution_count": 53
    },
    {
      "id": "3c12c230-a40b-44b8-b8de-3fd410e3ac9a",
      "cell_type": "code",
      "source": "# But we can combine strings and numbers by using f-strings or the format() method!\nage = 36\ntxt = f\"My name is John, I am {age}\"\nprint(txt)",
      "metadata": {
        "trusted": true
      },
      "outputs": [
        {
          "name": "stdout",
          "output_type": "stream",
          "text": "My name is John, I am 36\n"
        }
      ],
      "execution_count": 55
    },
    {
      "id": "56d34502-8c63-4f80-abda-61054d675063",
      "cell_type": "code",
      "source": "price = 59\ntxt = f\"The price is {price} dollars\"\nprint(txt)",
      "metadata": {
        "trusted": true
      },
      "outputs": [
        {
          "name": "stdout",
          "output_type": "stream",
          "text": "The price is 59 dollars\n"
        }
      ],
      "execution_count": 56
    },
    {
      "id": "3f115569-5ac6-45e0-b337-4384baea3f34",
      "cell_type": "code",
      "source": "price = 59\ntxt = f\"The price is {price:.2f} dollars\"\nprint(txt)",
      "metadata": {
        "trusted": true
      },
      "outputs": [
        {
          "name": "stdout",
          "output_type": "stream",
          "text": "The price is 59.00 dollars\n"
        }
      ],
      "execution_count": 57
    },
    {
      "id": "611a4020-cd68-43b0-8899-389e99972a7b",
      "cell_type": "code",
      "source": "txt = f\"The price is {20 * 59} dollars\"\nprint(txt)",
      "metadata": {
        "trusted": true
      },
      "outputs": [
        {
          "name": "stdout",
          "output_type": "stream",
          "text": "The price is 1180 dollars\n"
        }
      ],
      "execution_count": 58
    },
    {
      "id": "abedfac1-8a72-45ed-87b4-fa21492e9501",
      "cell_type": "markdown",
      "source": "__Escape Characters__",
      "metadata": {}
    },
    {
      "id": "c53dd823-928f-42c8-98f4-2c70671a174c",
      "cell_type": "code",
      "source": "txt = \"We are the so-called \"Vikings\" from the north.\"\nprint(txt)",
      "metadata": {
        "trusted": true
      },
      "outputs": [
        {
          "ename": "<class 'SyntaxError'>",
          "evalue": "invalid syntax (<ipython-input-61-485014d8dfdf>, line 1)",
          "traceback": [
            "\u001b[0;36m  Cell \u001b[0;32mIn[61], line 1\u001b[0;36m\u001b[0m\n\u001b[0;31m    txt = \"We are the so-called \"Vikings\" from the north.\"\u001b[0m\n\u001b[0m                                 ^\u001b[0m\n\u001b[0;31mSyntaxError\u001b[0m\u001b[0;31m:\u001b[0m invalid syntax\n"
          ],
          "output_type": "error"
        }
      ],
      "execution_count": 61
    },
    {
      "id": "4a2e5a72-d0df-4a14-a07d-824125bba0b6",
      "cell_type": "code",
      "source": "txt = \"We are the so-called \\\"Vikings\\\" from the north.\"\nprint(txt)",
      "metadata": {
        "trusted": true
      },
      "outputs": [
        {
          "name": "stdout",
          "output_type": "stream",
          "text": "We are the so-called \"Vikings\" from the north.\n"
        }
      ],
      "execution_count": 60
    },
    {
      "id": "2849658e-c90b-400d-8214-72c2f01e354e",
      "cell_type": "raw",
      "source": "Code\t     Result\n\\'\t         Single Quote\t\n\\\\\t         Backslash\t\n\\n\t         New Line\t\n\\r\t         Carriage Return\t\n\\t\t         Tab\t\n\\b\t         Backspace\t\n\\f\t         Form Feed\t\n\\ooo\t     Octal value\t\n\\xhh\t     Hex value",
      "metadata": {}
    },
    {
      "id": "09df84b6-3056-48ae-80fc-e232135ad1df",
      "cell_type": "markdown",
      "source": "__String Methods__",
      "metadata": {}
    },
    {
      "id": "c91b3511-f383-4007-aea8-1732622db979",
      "cell_type": "raw",
      "source": "Method\t             Description\ncapitalize()\t     Converts the first character to upper case\ncasefold()\t         Converts string into lower case\ncenter()\t         Returns a centered string\ncount()\t             Returns the number of times a specified value occurs in a string\nencode()\t         Returns an encoded version of the string\nendswith()\t         Returns true if the string ends with the specified value\nexpandtabs()\t     Sets the tab size of the string\nfind()\t             Searches the string for a specified value and returns the position of where it was found\nformat()\t         Formats specified values in a string\nformat_map()\t     Formats specified values in a string\nindex()\t             Searches the string for a specified value and returns the position of where it was found\nisalnum()\t         Returns True if all characters in the string are alphanumeric\nisalpha()\t         Returns True if all characters in the string are in the alphabet\nisascii()\t         Returns True if all characters in the string are ascii characters\nisdecimal()\t         Returns True if all characters in the string are decimals\nisdigit()\t         Returns True if all characters in the string are digits\nisidentifier()\t     Returns True if the string is an identifier\nislower()\t         Returns True if all characters in the string are lower case\nisnumeric()\t         Returns True if all characters in the string are numeric\nisprintable()\t     Returns True if all characters in the string are printable\nisspace()\t         Returns True if all characters in the string are whitespaces\nistitle()\t         Returns True if the string follows the rules of a title\nisupper()\t         Returns True if all characters in the string are upper case\njoin()\t             Joins the elements of an iterable to the end of the string\nljust()\t             Returns a left justified version of the string\nlower()\t             Converts a string into lower case\nlstrip()\t         Returns a left trim version of the string\nmaketrans()\t         Returns a translation table to be used in translations\npartition()\t         Returns a tuple where the string is parted into three parts\nreplace()\t         Returns a string where a specified value is replaced with a specified value\nrfind()\t             Searches the string for a specified value and returns the last position of where it was found\nrindex()\t         Searches the string for a specified value and returns the last position of where it was found\nrjust()\t             Returns a right justified version of the string\nrpartition()\t     Returns a tuple where the string is parted into three parts\nrsplit()\t         Splits the string at the specified separator, and returns a list\nrstrip()\t         Returns a right trim version of the string\nsplit()\t             Splits the string at the specified separator, and returns a list\nsplitlines()\t     Splits the string at line breaks and returns a list\nstartswith()\t     Returns true if the string starts with the specified value\nstrip()\t             Returns a trimmed version of the string\nswapcase()\t         Swaps cases, lower case becomes upper case and vice versa\ntitle()\t             Converts the first character of each word to upper case\ntranslate()\t         Returns a translated string\nupper()\t             Converts a string into upper case\nzfill()\t             Fills the string with a specified number of 0 values at the beginning",
      "metadata": {}
    },
    {
      "id": "b2a26fcc-d2ad-485c-9f1c-80f14d5ed4db",
      "cell_type": "code",
      "source": "thislist = [\"apple\", \"banana\", \"cherry\"]\nprint(thislist)",
      "metadata": {
        "trusted": true
      },
      "outputs": [
        {
          "name": "stdout",
          "output_type": "stream",
          "text": "['apple', 'banana', 'cherry']\n"
        }
      ],
      "execution_count": 14
    },
    {
      "id": "e928078f-6d38-45dd-b3a6-7e40aa2e95fb",
      "cell_type": "code",
      "source": "thislist = [\"apple\", \"banana\", \"cherry\", \"apple\", \"cherry\"]\nprint(thislist)",
      "metadata": {
        "trusted": true
      },
      "outputs": [
        {
          "name": "stdout",
          "output_type": "stream",
          "text": "['apple', 'banana', 'cherry', 'apple', 'cherry']\n"
        }
      ],
      "execution_count": 15
    },
    {
      "id": "93865fa1-c7f3-4533-a0a4-e5a0b639d44c",
      "cell_type": "code",
      "source": "thislist = [\"apple\", \"banana\", \"cherry\"]\nprint(len(thislist))",
      "metadata": {
        "trusted": true
      },
      "outputs": [
        {
          "name": "stdout",
          "output_type": "stream",
          "text": "3\n"
        }
      ],
      "execution_count": 16
    },
    {
      "id": "9a1d6cab-d022-4284-86ad-c9692edff7cd",
      "cell_type": "code",
      "source": "#String, int and boolean data types:\nlist1 = [\"apple\", \"banana\", \"cherry\"]\nlist2 = [1, 5, 7, 9, 3]\nlist3 = [True, False, False]",
      "metadata": {
        "trusted": true
      },
      "outputs": [],
      "execution_count": 19
    },
    {
      "id": "dce07447-3893-46dc-9955-7e5c3f466e13",
      "cell_type": "code",
      "source": "list1 = [\"abc\", 34, True, 40, \"male\"] #A list with strings, integers and boolean values",
      "metadata": {
        "trusted": true
      },
      "outputs": [],
      "execution_count": 20
    },
    {
      "id": "d9bce358-f0f9-4916-8811-759df4d0592e",
      "cell_type": "code",
      "source": "mylist = [\"apple\", \"banana\", \"cherry\"]\nprint(type(mylist))",
      "metadata": {
        "trusted": true
      },
      "outputs": [
        {
          "name": "stdout",
          "output_type": "stream",
          "text": "<class 'list'>\n"
        }
      ],
      "execution_count": 21
    },
    {
      "id": "717d3d18-e287-473b-9de1-6ff81388bff3",
      "cell_type": "code",
      "source": "thislist = list((\"apple\", \"banana\", \"cherry\")) # note the double round-brackets\nprint(thislist)",
      "metadata": {
        "trusted": true
      },
      "outputs": [],
      "execution_count": null
    },
    {
      "id": "f8c0aac3-5c32-4a6b-ae75-fda75e018278",
      "cell_type": "code",
      "source": "thislist = [\"apple\", \"banana\", \"cherry\"]\nprint(thislist[1])",
      "metadata": {
        "trusted": true
      },
      "outputs": [],
      "execution_count": null
    },
    {
      "id": "b99edf97-1ec5-4a07-8557-a29b75345956",
      "cell_type": "code",
      "source": "thislist = [\"apple\", \"banana\", \"cherry\"]\nprint(thislist[-1])",
      "metadata": {
        "trusted": true
      },
      "outputs": [],
      "execution_count": null
    },
    {
      "id": "de762861-2d5e-4928-bd4d-4ad25d305a2a",
      "cell_type": "code",
      "source": "thislist = [\"apple\", \"banana\", \"cherry\", \"orange\", \"kiwi\", \"melon\", \"mango\"]\nprint(thislist[2:5])",
      "metadata": {
        "trusted": true
      },
      "outputs": [],
      "execution_count": null
    },
    {
      "id": "cf4854fc-8770-4615-8341-7e2d2b22ec81",
      "cell_type": "code",
      "source": "thislist = [\"apple\", \"banana\", \"cherry\", \"orange\", \"kiwi\", \"melon\", \"mango\"]\nprint(thislist[:4])",
      "metadata": {
        "trusted": true
      },
      "outputs": [],
      "execution_count": null
    },
    {
      "id": "2ba4b857-7e31-498c-9366-df837c1beca8",
      "cell_type": "code",
      "source": "thislist = [\"apple\", \"banana\", \"cherry\", \"orange\", \"kiwi\", \"melon\", \"mango\"]\nprint(thislist[2:])",
      "metadata": {
        "trusted": true
      },
      "outputs": [],
      "execution_count": null
    },
    {
      "id": "5249b973-8d91-47cf-806e-b77e07bc862a",
      "cell_type": "code",
      "source": "thislist = [\"apple\", \"banana\", \"cherry\", \"orange\", \"kiwi\", \"melon\", \"mango\"]\nprint(thislist[-4:-1])",
      "metadata": {
        "trusted": true
      },
      "outputs": [],
      "execution_count": null
    },
    {
      "id": "30158488-80cc-4109-b349-8a021c4b3b97",
      "cell_type": "code",
      "source": "thislist = [\"apple\", \"banana\", \"cherry\"]\nif \"apple\" in thislist:\n  print(\"Yes, 'apple' is in the fruits list\")",
      "metadata": {
        "trusted": true
      },
      "outputs": [],
      "execution_count": null
    },
    {
      "id": "fdf1f69d-50ef-4596-b30e-c241d34d77f7",
      "cell_type": "code",
      "source": "thislist = [\"apple\", \"banana\", \"cherry\"]\nthislist[1] = \"blackcurrant\"\nprint(thislist)",
      "metadata": {
        "trusted": true
      },
      "outputs": [],
      "execution_count": null
    },
    {
      "id": "4716f3a8-6147-4666-9e75-509badc7fa84",
      "cell_type": "code",
      "source": "thislist = [\"apple\", \"banana\", \"cherry\", \"orange\", \"kiwi\", \"mango\"]\nthislist[1:3] = [\"blackcurrant\", \"watermelon\"]\nprint(thislist)",
      "metadata": {
        "trusted": true
      },
      "outputs": [],
      "execution_count": null
    },
    {
      "id": "fdc22fef-3292-4e73-8ea1-9594fffecec6",
      "cell_type": "code",
      "source": "thislist = [\"apple\", \"banana\", \"cherry\"]\nthislist[1:2] = [\"blackcurrant\", \"watermelon\"]\nprint(thislist)",
      "metadata": {
        "trusted": true
      },
      "outputs": [],
      "execution_count": null
    },
    {
      "id": "dcd31b8d-e596-44f9-9360-cab7a14fd105",
      "cell_type": "code",
      "source": "thislist = [\"apple\", \"banana\", \"cherry\"]\nthislist[1:3] = [\"watermelon\"]\nprint(thislist)",
      "metadata": {
        "trusted": true
      },
      "outputs": [],
      "execution_count": null
    },
    {
      "id": "15a3a19a-72a6-4ca2-b3dd-9cb9bab45de1",
      "cell_type": "code",
      "source": "thislist = [\"apple\", \"banana\", \"cherry\"]\nthislist.insert(2, \"watermelon\")\nprint(thislist)",
      "metadata": {
        "trusted": true
      },
      "outputs": [],
      "execution_count": null
    },
    {
      "id": "57798030-ba59-4421-a925-dfa88882d1af",
      "cell_type": "code",
      "source": "thislist = [\"apple\", \"banana\", \"cherry\"]\nthislist.append(\"orange\")\nprint(thislist)",
      "metadata": {
        "trusted": true
      },
      "outputs": [],
      "execution_count": null
    },
    {
      "id": "27e89a6d-c084-4fc6-80a7-2262511e5568",
      "cell_type": "code",
      "source": "",
      "metadata": {
        "trusted": true
      },
      "outputs": [],
      "execution_count": null
    }
  ]
}